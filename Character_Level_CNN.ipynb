{
 "cells": [
  {
   "cell_type": "markdown",
   "metadata": {},
   "source": [
    "# 何をするのか\n",
    "Vtuberのハッシュタグを検索し、ツイート内容をCharacter-Level CNNにかけて分類器を作ります。  \n",
    "ハッシュタグのないツイートがどんな話題についてのものなのか予測することができる機能を期待しています。  \n",
    "目的としてはTwitterAPIに慣れたい＆自然言語処理っぽいことしたい＆Kerasを実装してみたい、といったところです。"
   ]
  },
  {
   "cell_type": "code",
   "execution_count": 1,
   "metadata": {},
   "outputs": [
    {
     "name": "stderr",
     "output_type": "stream",
     "text": [
      "/anaconda3/lib/python3.6/site-packages/h5py/__init__.py:36: FutureWarning: Conversion of the second argument of issubdtype from `float` to `np.floating` is deprecated. In future, it will be treated as `np.float64 == np.dtype(float).type`.\n",
      "  from ._conv import register_converters as _register_converters\n",
      "Using TensorFlow backend.\n"
     ]
    }
   ],
   "source": [
    "import numpy as np\n",
    "import pandas as pd\n",
    "import matplotlib.pyplot as plt\n",
    "import tensorflow as tf\n",
    "import keras\n",
    "%matplotlib inline"
   ]
  },
  {
   "cell_type": "markdown",
   "metadata": {},
   "source": [
    "スクレイピングのコードはこちら→https://github.com/Kiro02/TweetClasifier/blob/master/searcher.py"
   ]
  },
  {
   "cell_type": "code",
   "execution_count": 2,
   "metadata": {},
   "outputs": [],
   "source": [
    "df_1 = pd.read_csv(\"キズナアイ.csv\")\n",
    "df_2 = pd.read_csv(\"輝夜月.csv\")\n",
    "df_3 = pd.read_csv(\"バーチャルのじゃロリ狐娘Youtuberおじさん.csv\")\n",
    "df_4 = pd.read_csv(\"ミライアカリ.csv\")\n",
    "df_5 = pd.read_csv(\"月ノ美兎.csv\")"
   ]
  },
  {
   "cell_type": "code",
   "execution_count": 3,
   "metadata": {},
   "outputs": [],
   "source": [
    "df = pd.concat([df_1,df_2,df_3,df_4,df_5])\n",
    "df = df.reset_index()"
   ]
  },
  {
   "cell_type": "code",
   "execution_count": 4,
   "metadata": {},
   "outputs": [],
   "source": [
    "del df[\"Unnamed: 0\"] #よくわからない列ができてしまったので消す"
   ]
  },
  {
   "cell_type": "code",
   "execution_count": 5,
   "metadata": {
    "scrolled": true
   },
   "outputs": [
    {
     "data": {
      "text/html": [
       "<div>\n",
       "<style scoped>\n",
       "    .dataframe tbody tr th:only-of-type {\n",
       "        vertical-align: middle;\n",
       "    }\n",
       "\n",
       "    .dataframe tbody tr th {\n",
       "        vertical-align: top;\n",
       "    }\n",
       "\n",
       "    .dataframe thead th {\n",
       "        text-align: right;\n",
       "    }\n",
       "</style>\n",
       "<table border=\"1\" class=\"dataframe\">\n",
       "  <thead>\n",
       "    <tr style=\"text-align: right;\">\n",
       "      <th></th>\n",
       "      <th>index</th>\n",
       "      <th>hashtag</th>\n",
       "      <th>text</th>\n",
       "    </tr>\n",
       "  </thead>\n",
       "  <tbody>\n",
       "    <tr>\n",
       "      <th>0</th>\n",
       "      <td>0</td>\n",
       "      <td>キズナアイ</td>\n",
       "      <td>#キズナアイ\\nこれは前にアニメイト行った時に買ったやつ✨✨一目惚れ(♥ω♥*)ｷｭﾝｷｭﾝ...</td>\n",
       "    </tr>\n",
       "    <tr>\n",
       "      <th>1</th>\n",
       "      <td>1</td>\n",
       "      <td>キズナアイ</td>\n",
       "      <td>遂にやっちゃったキズナアイ面接っっ😆✨すっごいテンポ早いんだね！！！とろちゃんはついていける...</td>\n",
       "    </tr>\n",
       "    <tr>\n",
       "      <th>2</th>\n",
       "      <td>2</td>\n",
       "      <td>キズナアイ</td>\n",
       "      <td>#キズナアイ\\nこの前ガチャガチャやった時のやつ！\\n本当にかわいい！💕 https://t...</td>\n",
       "    </tr>\n",
       "    <tr>\n",
       "      <th>3</th>\n",
       "      <td>3</td>\n",
       "      <td>キズナアイ</td>\n",
       "      <td>#丸勘パジャマでどこまで行けるか\\n#丸勘うちわ\\n#のんのんびより\\n#のんのんびよりギャ...</td>\n",
       "    </tr>\n",
       "    <tr>\n",
       "      <th>4</th>\n",
       "      <td>4</td>\n",
       "      <td>キズナアイ</td>\n",
       "      <td>「両極端は、あい交わる」 #キズナアイ</td>\n",
       "    </tr>\n",
       "  </tbody>\n",
       "</table>\n",
       "</div>"
      ],
      "text/plain": [
       "   index hashtag                                               text\n",
       "0      0   キズナアイ  #キズナアイ\\nこれは前にアニメイト行った時に買ったやつ✨✨一目惚れ(♥ω♥*)ｷｭﾝｷｭﾝ...\n",
       "1      1   キズナアイ  遂にやっちゃったキズナアイ面接っっ😆✨すっごいテンポ早いんだね！！！とろちゃんはついていける...\n",
       "2      2   キズナアイ  #キズナアイ\\nこの前ガチャガチャやった時のやつ！\\n本当にかわいい！💕 https://t...\n",
       "3      3   キズナアイ  #丸勘パジャマでどこまで行けるか\\n#丸勘うちわ\\n#のんのんびより\\n#のんのんびよりギャ...\n",
       "4      4   キズナアイ                                「両極端は、あい交わる」 #キズナアイ"
      ]
     },
     "execution_count": 5,
     "metadata": {},
     "output_type": "execute_result"
    }
   ],
   "source": [
    "df.head()"
   ]
  },
  {
   "cell_type": "code",
   "execution_count": 6,
   "metadata": {},
   "outputs": [
    {
     "name": "stdout",
     "output_type": "stream",
     "text": [
      "<class 'pandas.core.frame.DataFrame'>\n",
      "RangeIndex: 434 entries, 0 to 433\n",
      "Data columns (total 3 columns):\n",
      "index      434 non-null int64\n",
      "hashtag    434 non-null object\n",
      "text       434 non-null object\n",
      "dtypes: int64(1), object(2)\n",
      "memory usage: 10.2+ KB\n"
     ]
    }
   ],
   "source": [
    "df.info()"
   ]
  },
  {
   "cell_type": "markdown",
   "metadata": {},
   "source": [
    "・ツイートは最大１４０文字なのでそれを固定長にする（CNNなので可変長はNG)  \n",
    "・ハッシュタグそのものは取り除く  \n",
    "・データは生放送とかでワードに偏りが出てしまうので、いろいろな時期から撮りたい  \n",
    "→サーバー上で定期的に動かすようにする  \n",
    "・改行文字などを消去する  \n",
    "・URLを除外  "
   ]
  },
  {
   "cell_type": "code",
   "execution_count": 7,
   "metadata": {},
   "outputs": [
    {
     "name": "stdout",
     "output_type": "stream",
     "text": [
      "#\t#\t#\t名詞-サ変接続\t\t\n",
      "キズナアイ\tキズナアイ\tキズナアイ\t名詞-一般\t\t\n",
      "この\tコノ\tこの\t連体詞\t\t\n",
      "前\tマエ\t前\t名詞-副詞可能\t\t\n",
      "ガチャガチャ\tガチャガチャ\tガチャガチャ\t名詞-一般\t\t\n",
      "やっ\tヤッ\tやる\t動詞-自立\t五段・ラ行\t連用タ接続\n",
      "た\tタ\tた\t助動詞\t特殊・タ\t基本形\n",
      "時\tトキ\t時\t名詞-非自立-副詞可能\t\t\n",
      "の\tノ\tの\t助詞-連体化\t\t\n",
      "やつ\tヤツ\tやつ\t名詞-代名詞-一般\t\t\n",
      "！\t！\t！\t記号-一般\t\t\n",
      "本当に\tホントウニ\t本当に\t副詞-一般\t\t\n",
      "かわいい\tカワイイ\tかわいい\t形容詞-自立\t形容詞・イ段\t基本形\n",
      "！\t！\t！\t記号-一般\t\t\n",
      "💕\t💕\t💕\t記号-一般\t\t\n",
      "https\thttps\thttps\t名詞-固有名詞-組織\t\t\n",
      "://\t://\t://\t名詞-サ変接続\t\t\n",
      "t\tt\tt\t名詞-一般\t\t\n",
      ".\t.\t.\t名詞-サ変接続\t\t\n",
      "co\tco\tco\t名詞-一般\t\t\n",
      "/\t/\t/\t名詞-サ変接続\t\t\n",
      "cmUnsIXl\tcmUnsIXl\tcmUnsIXl\t名詞-一般\t\t\n",
      "1\t1\t1\t名詞-数\t\t\n",
      "o\to\to\t名詞-固有名詞-組織\t\t\n",
      "EOS\n",
      "\n"
     ]
    }
   ],
   "source": [
    "#前処理はMeCabで。\n",
    "import MeCab\n",
    "m = MeCab.Tagger (\"-Ochasen\")\n",
    "#テスト\n",
    "print(m.parse(df.loc[2,[\"text\"]][0]))"
   ]
  },
  {
   "cell_type": "code",
   "execution_count": 8,
   "metadata": {},
   "outputs": [
    {
     "name": "stdout",
     "output_type": "stream",
     "text": [
      "#キズナアイ\n",
      "この前ガチャガチャやった時のやつ！\n",
      "本当にかわいい！\n"
     ]
    }
   ],
   "source": [
    "string=\"#キズナアイ\\nこの前ガチャガチャやった時のやつ！\\n本当にかわいい！\"\n",
    "string.replace(\"\\n\",\"\")\n",
    "string.strip()\n",
    "print(string)"
   ]
  },
  {
   "cell_type": "code",
   "execution_count": 9,
   "metadata": {},
   "outputs": [
    {
     "name": "stdout",
     "output_type": "stream",
     "text": [
      "[35, 12461, 12474, 12490, 12450, 12452, 10, 12371, 12398, 21069, 12460, 12481, 12515, 12460, 12481, 12515, 12420, 12387, 12383, 26178, 12398, 12420, 12388, 65281, 10, 26412, 24403, 12395, 12363, 12431, 12356, 12356, 65281]\n",
      "33 33\n"
     ]
    }
   ],
   "source": [
    "test = [ord(x) for x in string.strip()] #文章をベクトル化\n",
    "print(test)\n",
    "print(len(string),len(test))"
   ]
  },
  {
   "cell_type": "code",
   "execution_count": 10,
   "metadata": {},
   "outputs": [],
   "source": [
    "def replace_words(dataframe, word1, word2):\n",
    "    \"\"\"\n",
    "    ツイート内のword1をword2置換\n",
    "    \"\"\"\n",
    "    for i in range(len(dataframe.loc[:,[\"text\"]])):\n",
    "        dataframe.loc[i,[\"text\"]] = dataframe.loc[i,[\"text\"]].astype(str)[0].replace(str(word1),str(word2))\n",
    "    return dataframe"
   ]
  },
  {
   "cell_type": "code",
   "execution_count": 11,
   "metadata": {},
   "outputs": [
    {
     "data": {
      "text/html": [
       "<div>\n",
       "<style scoped>\n",
       "    .dataframe tbody tr th:only-of-type {\n",
       "        vertical-align: middle;\n",
       "    }\n",
       "\n",
       "    .dataframe tbody tr th {\n",
       "        vertical-align: top;\n",
       "    }\n",
       "\n",
       "    .dataframe thead th {\n",
       "        text-align: right;\n",
       "    }\n",
       "</style>\n",
       "<table border=\"1\" class=\"dataframe\">\n",
       "  <thead>\n",
       "    <tr style=\"text-align: right;\">\n",
       "      <th></th>\n",
       "      <th>index</th>\n",
       "      <th>hashtag</th>\n",
       "      <th>text</th>\n",
       "    </tr>\n",
       "  </thead>\n",
       "  <tbody>\n",
       "    <tr>\n",
       "      <th>429</th>\n",
       "      <td>95</td>\n",
       "      <td>月ノ美兎</td>\n",
       "      <td>#すーぱーそに子 まさかのコラボhttps://t.co/Mpw3WZsigw</td>\n",
       "    </tr>\n",
       "    <tr>\n",
       "      <th>430</th>\n",
       "      <td>96</td>\n",
       "      <td>月ノ美兎</td>\n",
       "      <td>すき https://t.co/WjyXWgOhzM</td>\n",
       "    </tr>\n",
       "    <tr>\n",
       "      <th>431</th>\n",
       "      <td>97</td>\n",
       "      <td>月ノ美兎</td>\n",
       "      <td>みとみとが真面目に話してるところに上から100トンがポンポン落ちてきてるの面白すぎる</td>\n",
       "    </tr>\n",
       "    <tr>\n",
       "      <th>432</th>\n",
       "      <td>98</td>\n",
       "      <td>月ノ美兎</td>\n",
       "      <td>月ノ美兎の放課後ラジオ #6 配信を開始しました  #委員長すき #にじさんじ https:...</td>\n",
       "    </tr>\n",
       "    <tr>\n",
       "      <th>433</th>\n",
       "      <td>99</td>\n",
       "      <td>月ノ美兎</td>\n",
       "      <td>公式ﾗｲﾊﾞｰ情報まとめ9月9日更新https://t.co/WasJr6KzCJ#鈴谷アキ...</td>\n",
       "    </tr>\n",
       "  </tbody>\n",
       "</table>\n",
       "</div>"
      ],
      "text/plain": [
       "     index hashtag                                               text\n",
       "429     95    月ノ美兎            #すーぱーそに子 まさかのコラボhttps://t.co/Mpw3WZsigw\n",
       "430     96    月ノ美兎                         すき https://t.co/WjyXWgOhzM\n",
       "431     97    月ノ美兎         みとみとが真面目に話してるところに上から100トンがポンポン落ちてきてるの面白すぎる\n",
       "432     98    月ノ美兎  月ノ美兎の放課後ラジオ #6 配信を開始しました  #委員長すき #にじさんじ https:...\n",
       "433     99    月ノ美兎  公式ﾗｲﾊﾞｰ情報まとめ9月9日更新https://t.co/WasJr6KzCJ#鈴谷アキ..."
      ]
     },
     "execution_count": 11,
     "metadata": {},
     "output_type": "execute_result"
    }
   ],
   "source": [
    "df = replace_words(df, \"\\n\", \"\") #改行記号削除\n",
    "#ハッシュタグ削除\n",
    "for vtuber in [\"キズナアイ\",\"輝夜月\",\"ミライアカリ\",\"バーチャルのじゃロリ狐娘Youtuberおじさん\",\"月ノ美兎\"]:\n",
    "    df = replace_words(df, (\"#\" + vtuber), \"\")\n",
    "df.tail()"
   ]
  },
  {
   "cell_type": "code",
   "execution_count": 12,
   "metadata": {},
   "outputs": [],
   "source": [
    "#ツイートの固定長ベクトル化\n",
    "def string2vec(dataframe):\n",
    "    array = np.arange(140).reshape(1,140)\n",
    "    for i in range(len(dataframe.loc[:,[\"text\"]])): #ベクトル化\n",
    "        string_vec = [ord(x) for x in dataframe.loc[i,[\"text\"]].astype(str)[0].strip()]\n",
    "        while len(string_vec) < 140:     #140の長さで固定するためのゼロパディング\n",
    "            string_vec.append(0)\n",
    "        string_array = np.array(string_vec)\n",
    "        string_array = string_array.reshape(1,140)\n",
    "        array = np.append(array, string_array, axis=0)\n",
    "    A = pd.DataFrame(array).iloc[1:,:].reset_index()\n",
    "    dataframe = pd.concat([dataframe,A], axis=1)\n",
    "    return dataframe"
   ]
  },
  {
   "cell_type": "code",
   "execution_count": 13,
   "metadata": {},
   "outputs": [],
   "source": [
    "vec_df=string2vec(df)"
   ]
  },
  {
   "cell_type": "code",
   "execution_count": 14,
   "metadata": {
    "scrolled": true
   },
   "outputs": [
    {
     "data": {
      "text/html": [
       "<div>\n",
       "<style scoped>\n",
       "    .dataframe tbody tr th:only-of-type {\n",
       "        vertical-align: middle;\n",
       "    }\n",
       "\n",
       "    .dataframe tbody tr th {\n",
       "        vertical-align: top;\n",
       "    }\n",
       "\n",
       "    .dataframe thead th {\n",
       "        text-align: right;\n",
       "    }\n",
       "</style>\n",
       "<table border=\"1\" class=\"dataframe\">\n",
       "  <thead>\n",
       "    <tr style=\"text-align: right;\">\n",
       "      <th></th>\n",
       "      <th>index</th>\n",
       "      <th>hashtag</th>\n",
       "      <th>text</th>\n",
       "      <th>index</th>\n",
       "      <th>0</th>\n",
       "      <th>1</th>\n",
       "      <th>2</th>\n",
       "      <th>3</th>\n",
       "      <th>4</th>\n",
       "      <th>5</th>\n",
       "      <th>...</th>\n",
       "      <th>130</th>\n",
       "      <th>131</th>\n",
       "      <th>132</th>\n",
       "      <th>133</th>\n",
       "      <th>134</th>\n",
       "      <th>135</th>\n",
       "      <th>136</th>\n",
       "      <th>137</th>\n",
       "      <th>138</th>\n",
       "      <th>139</th>\n",
       "    </tr>\n",
       "  </thead>\n",
       "  <tbody>\n",
       "    <tr>\n",
       "      <th>0</th>\n",
       "      <td>0</td>\n",
       "      <td>キズナアイ</td>\n",
       "      <td>これは前にアニメイト行った時に買ったやつ✨✨一目惚れ(♥ω♥*)ｷｭﾝｷｭﾝ♡*゜ http...</td>\n",
       "      <td>1</td>\n",
       "      <td>12371</td>\n",
       "      <td>12428</td>\n",
       "      <td>12399</td>\n",
       "      <td>21069</td>\n",
       "      <td>12395</td>\n",
       "      <td>12450</td>\n",
       "      <td>...</td>\n",
       "      <td>0</td>\n",
       "      <td>0</td>\n",
       "      <td>0</td>\n",
       "      <td>0</td>\n",
       "      <td>0</td>\n",
       "      <td>0</td>\n",
       "      <td>0</td>\n",
       "      <td>0</td>\n",
       "      <td>0</td>\n",
       "      <td>0</td>\n",
       "    </tr>\n",
       "    <tr>\n",
       "      <th>1</th>\n",
       "      <td>1</td>\n",
       "      <td>キズナアイ</td>\n",
       "      <td>遂にやっちゃったキズナアイ面接っっ😆✨すっごいテンポ早いんだね！！！とろちゃんはついていける...</td>\n",
       "      <td>2</td>\n",
       "      <td>36930</td>\n",
       "      <td>12395</td>\n",
       "      <td>12420</td>\n",
       "      <td>12387</td>\n",
       "      <td>12385</td>\n",
       "      <td>12419</td>\n",
       "      <td>...</td>\n",
       "      <td>85</td>\n",
       "      <td>75</td>\n",
       "      <td>100</td>\n",
       "      <td>0</td>\n",
       "      <td>0</td>\n",
       "      <td>0</td>\n",
       "      <td>0</td>\n",
       "      <td>0</td>\n",
       "      <td>0</td>\n",
       "      <td>0</td>\n",
       "    </tr>\n",
       "    <tr>\n",
       "      <th>2</th>\n",
       "      <td>2</td>\n",
       "      <td>キズナアイ</td>\n",
       "      <td>この前ガチャガチャやった時のやつ！本当にかわいい！💕 https://t.co/cmUnsI...</td>\n",
       "      <td>3</td>\n",
       "      <td>12371</td>\n",
       "      <td>12398</td>\n",
       "      <td>21069</td>\n",
       "      <td>12460</td>\n",
       "      <td>12481</td>\n",
       "      <td>12515</td>\n",
       "      <td>...</td>\n",
       "      <td>0</td>\n",
       "      <td>0</td>\n",
       "      <td>0</td>\n",
       "      <td>0</td>\n",
       "      <td>0</td>\n",
       "      <td>0</td>\n",
       "      <td>0</td>\n",
       "      <td>0</td>\n",
       "      <td>0</td>\n",
       "      <td>0</td>\n",
       "    </tr>\n",
       "    <tr>\n",
       "      <th>3</th>\n",
       "      <td>3</td>\n",
       "      <td>キズナアイ</td>\n",
       "      <td>#丸勘パジャマでどこまで行けるか#丸勘うちわ#のんのんびより#のんのんびよりギャラリー#劇場...</td>\n",
       "      <td>4</td>\n",
       "      <td>35</td>\n",
       "      <td>20024</td>\n",
       "      <td>21208</td>\n",
       "      <td>12497</td>\n",
       "      <td>12472</td>\n",
       "      <td>12515</td>\n",
       "      <td>...</td>\n",
       "      <td>0</td>\n",
       "      <td>0</td>\n",
       "      <td>0</td>\n",
       "      <td>0</td>\n",
       "      <td>0</td>\n",
       "      <td>0</td>\n",
       "      <td>0</td>\n",
       "      <td>0</td>\n",
       "      <td>0</td>\n",
       "      <td>0</td>\n",
       "    </tr>\n",
       "    <tr>\n",
       "      <th>4</th>\n",
       "      <td>4</td>\n",
       "      <td>キズナアイ</td>\n",
       "      <td>「両極端は、あい交わる」</td>\n",
       "      <td>5</td>\n",
       "      <td>12300</td>\n",
       "      <td>20001</td>\n",
       "      <td>26997</td>\n",
       "      <td>31471</td>\n",
       "      <td>12399</td>\n",
       "      <td>12289</td>\n",
       "      <td>...</td>\n",
       "      <td>0</td>\n",
       "      <td>0</td>\n",
       "      <td>0</td>\n",
       "      <td>0</td>\n",
       "      <td>0</td>\n",
       "      <td>0</td>\n",
       "      <td>0</td>\n",
       "      <td>0</td>\n",
       "      <td>0</td>\n",
       "      <td>0</td>\n",
       "    </tr>\n",
       "  </tbody>\n",
       "</table>\n",
       "<p>5 rows × 144 columns</p>\n",
       "</div>"
      ],
      "text/plain": [
       "   index hashtag                                               text  index  \\\n",
       "0      0   キズナアイ  これは前にアニメイト行った時に買ったやつ✨✨一目惚れ(♥ω♥*)ｷｭﾝｷｭﾝ♡*゜ http...      1   \n",
       "1      1   キズナアイ  遂にやっちゃったキズナアイ面接っっ😆✨すっごいテンポ早いんだね！！！とろちゃんはついていける...      2   \n",
       "2      2   キズナアイ  この前ガチャガチャやった時のやつ！本当にかわいい！💕 https://t.co/cmUnsI...      3   \n",
       "3      3   キズナアイ  #丸勘パジャマでどこまで行けるか#丸勘うちわ#のんのんびより#のんのんびよりギャラリー#劇場...      4   \n",
       "4      4   キズナアイ                                      「両極端は、あい交わる」       5   \n",
       "\n",
       "       0      1      2      3      4      5 ...   130  131  132  133  134  \\\n",
       "0  12371  12428  12399  21069  12395  12450 ...     0    0    0    0    0   \n",
       "1  36930  12395  12420  12387  12385  12419 ...    85   75  100    0    0   \n",
       "2  12371  12398  21069  12460  12481  12515 ...     0    0    0    0    0   \n",
       "3     35  20024  21208  12497  12472  12515 ...     0    0    0    0    0   \n",
       "4  12300  20001  26997  31471  12399  12289 ...     0    0    0    0    0   \n",
       "\n",
       "   135  136  137  138  139  \n",
       "0    0    0    0    0    0  \n",
       "1    0    0    0    0    0  \n",
       "2    0    0    0    0    0  \n",
       "3    0    0    0    0    0  \n",
       "4    0    0    0    0    0  \n",
       "\n",
       "[5 rows x 144 columns]"
      ]
     },
     "execution_count": 14,
     "metadata": {},
     "output_type": "execute_result"
    }
   ],
   "source": [
    "vec_df.head()"
   ]
  },
  {
   "cell_type": "markdown",
   "metadata": {},
   "source": [
    "ツイートをベクトルにすることができた。次はCNNにかけていく。"
   ]
  },
  {
   "cell_type": "code",
   "execution_count": 15,
   "metadata": {},
   "outputs": [],
   "source": [
    "import numpy as np\n",
    "import matplotlib.pyplot as plt\n",
    "% matplotlib inline\n",
    "\n",
    "#kerasではバックエンドでTensorFlowを回しているのでkeras使用時は毎回importする。\n",
    "import tensorflow as tf\n",
    "import keras\n",
    "\n",
    "#層構造のモデルを定義するためのメソッド（kerasのモデル構築で必ず使う）\n",
    "from keras.models import Sequential\n",
    "\n",
    "# Denseは層の生成メソッド、Activationは活性化関数を定義するためのメソッド\n",
    "#Flattenは二次元配列を一次元配列に変換する層\n",
    "from keras.layers import Dense, Activation, Flatten\n",
    "\n",
    "#SGD：ディープラーニングにおいて最も基本的な最適化手法\n",
    "from keras.optimizers import SGD"
   ]
  },
  {
   "cell_type": "code",
   "execution_count": 16,
   "metadata": {},
   "outputs": [
    {
     "data": {
      "text/plain": [
       "array([0, 'キズナアイ',\n",
       "       'これは前にアニメイト行った時に買ったやつ✨✨一目惚れ(♥ω♥*)ｷｭﾝｷｭﾝ♡*゜ https://t.co/oFIduW79WY',\n",
       "       1, 12371, 12428, 12399, 21069, 12395, 12450, 12491, 12513, 12452,\n",
       "       12488, 34892, 12387, 12383, 26178, 12395, 36023, 12387, 12383,\n",
       "       12420, 12388, 10024, 10024, 19968, 30446, 24794, 12428, 40, 9829,\n",
       "       969, 9829, 42, 41, 65399, 65389, 65437, 65399, 65389, 65437, 9825,\n",
       "       42, 12444, 32, 104, 116, 116, 112, 115, 58, 47, 47, 116, 46, 99,\n",
       "       111, 47, 111, 70, 73, 100, 117, 87, 55, 57, 87, 89, 0, 0, 0, 0, 0,\n",
       "       0, 0, 0, 0, 0, 0, 0, 0, 0, 0, 0, 0, 0, 0, 0, 0, 0, 0, 0, 0, 0, 0,\n",
       "       0, 0, 0, 0, 0, 0, 0, 0, 0, 0, 0, 0, 0, 0, 0, 0, 0, 0, 0, 0, 0, 0,\n",
       "       0, 0, 0, 0, 0, 0, 0, 0, 0, 0, 0, 0, 0, 0, 0, 0, 0, 0, 0, 0, 0, 0,\n",
       "       0, 0, 0, 0], dtype=object)"
      ]
     },
     "execution_count": 16,
     "metadata": {},
     "output_type": "execute_result"
    }
   ],
   "source": [
    "vec_df.iloc[0,:].values"
   ]
  },
  {
   "cell_type": "markdown",
   "metadata": {},
   "source": [
    "このままでは目的変数が文字列なのでone-hotエンコーディングでベクトルにする。"
   ]
  },
  {
   "cell_type": "code",
   "execution_count": 17,
   "metadata": {},
   "outputs": [
    {
     "data": {
      "text/html": [
       "<div>\n",
       "<style scoped>\n",
       "    .dataframe tbody tr th:only-of-type {\n",
       "        vertical-align: middle;\n",
       "    }\n",
       "\n",
       "    .dataframe tbody tr th {\n",
       "        vertical-align: top;\n",
       "    }\n",
       "\n",
       "    .dataframe thead th {\n",
       "        text-align: right;\n",
       "    }\n",
       "</style>\n",
       "<table border=\"1\" class=\"dataframe\">\n",
       "  <thead>\n",
       "    <tr style=\"text-align: right;\">\n",
       "      <th></th>\n",
       "      <th>キズナアイ</th>\n",
       "      <th>バーチャルのじゃロリ狐娘Youtuberおじさん</th>\n",
       "      <th>ミライアカリ</th>\n",
       "      <th>月ノ美兎</th>\n",
       "      <th>輝夜月</th>\n",
       "    </tr>\n",
       "  </thead>\n",
       "  <tbody>\n",
       "    <tr>\n",
       "      <th>43</th>\n",
       "      <td>1</td>\n",
       "      <td>0</td>\n",
       "      <td>0</td>\n",
       "      <td>0</td>\n",
       "      <td>0</td>\n",
       "    </tr>\n",
       "    <tr>\n",
       "      <th>193</th>\n",
       "      <td>0</td>\n",
       "      <td>1</td>\n",
       "      <td>0</td>\n",
       "      <td>0</td>\n",
       "      <td>0</td>\n",
       "    </tr>\n",
       "    <tr>\n",
       "      <th>18</th>\n",
       "      <td>1</td>\n",
       "      <td>0</td>\n",
       "      <td>0</td>\n",
       "      <td>0</td>\n",
       "      <td>0</td>\n",
       "    </tr>\n",
       "    <tr>\n",
       "      <th>133</th>\n",
       "      <td>0</td>\n",
       "      <td>0</td>\n",
       "      <td>0</td>\n",
       "      <td>0</td>\n",
       "      <td>1</td>\n",
       "    </tr>\n",
       "    <tr>\n",
       "      <th>287</th>\n",
       "      <td>0</td>\n",
       "      <td>0</td>\n",
       "      <td>1</td>\n",
       "      <td>0</td>\n",
       "      <td>0</td>\n",
       "    </tr>\n",
       "  </tbody>\n",
       "</table>\n",
       "</div>"
      ],
      "text/plain": [
       "     キズナアイ  バーチャルのじゃロリ狐娘Youtuberおじさん  ミライアカリ  月ノ美兎  輝夜月\n",
       "43       1                         0       0     0    0\n",
       "193      0                         1       0     0    0\n",
       "18       1                         0       0     0    0\n",
       "133      0                         0       0     0    1\n",
       "287      0                         0       1     0    0"
      ]
     },
     "execution_count": 17,
     "metadata": {},
     "output_type": "execute_result"
    }
   ],
   "source": [
    "pd.get_dummies(vec_df['hashtag']).sample(frac=1).head()"
   ]
  },
  {
   "cell_type": "code",
   "execution_count": 18,
   "metadata": {},
   "outputs": [],
   "source": [
    "y_train = pd.get_dummies(vec_df['hashtag']).values #学習用目的変数の作成"
   ]
  },
  {
   "cell_type": "markdown",
   "metadata": {},
   "source": [
    "いい感じにベクトルにできてました。説明変数も作りましょう。"
   ]
  },
  {
   "cell_type": "code",
   "execution_count": 19,
   "metadata": {},
   "outputs": [],
   "source": [
    "x_train = vec_df.iloc[:,4:].values #学習用説明変数の作成"
   ]
  },
  {
   "cell_type": "code",
   "execution_count": 20,
   "metadata": {},
   "outputs": [],
   "source": [
    "#Kerasで扱えるようにfloatデータにします\n",
    "x_train = x_train.astype(\"f\")\n",
    "y_train = y_train.astype(\"f\")"
   ]
  },
  {
   "cell_type": "code",
   "execution_count": 21,
   "metadata": {},
   "outputs": [
    {
     "name": "stdout",
     "output_type": "stream",
     "text": [
      "[1. 0. 0. 0. 0.]\n",
      "[3.69300e+04 1.23950e+04 1.24200e+04 1.23870e+04 1.23850e+04 1.24190e+04\n",
      " 1.23870e+04 1.23830e+04 1.24610e+04 1.24740e+04 1.24900e+04 1.24500e+04\n",
      " 1.24520e+04 3.87540e+04 2.55090e+04 1.23870e+04 1.23870e+04 1.28518e+05\n",
      " 1.00240e+04 1.23770e+04 1.23870e+04 1.23720e+04 1.23560e+04 1.24860e+04\n",
      " 1.25310e+04 1.25090e+04 2.60890e+04 1.23560e+04 1.24350e+04 1.23840e+04\n",
      " 1.23970e+04 6.52810e+04 6.52810e+04 6.52810e+04 1.23920e+04 1.24290e+04\n",
      " 1.23850e+04 1.24190e+04 1.24350e+04 1.23990e+04 1.23880e+04 1.23560e+04\n",
      " 1.23900e+04 1.23560e+04 1.23690e+04 1.24270e+04 1.23980e+04 1.23910e+04\n",
      " 1.23750e+04 1.24230e+04 1.23580e+04 1.23630e+04 8.23000e+03 8.26500e+03\n",
      " 6.50380e+04 1.27800e+05 2.12050e+04 3.00110e+04 1.23990e+04 1.23710e+04\n",
      " 1.23850e+04 1.24250e+04 1.27800e+05 1.04000e+02 1.16000e+02 1.16000e+02\n",
      " 1.12000e+02 1.15000e+02 5.80000e+01 4.70000e+01 4.70000e+01 1.16000e+02\n",
      " 4.60000e+01 9.90000e+01 1.11000e+02 4.70000e+01 1.05000e+02 1.18000e+02\n",
      " 1.07000e+02 4.90000e+01 4.80000e+01 8.60000e+01 1.14000e+02 1.06000e+02\n",
      " 1.19000e+02 1.14000e+02 3.50000e+01 2.10690e+04 2.85480e+04 1.23920e+04\n",
      " 1.24290e+04 3.20000e+01 3.50000e+01 1.24140e+04 1.23600e+04 1.23770e+04\n",
      " 1.23920e+04 1.24290e+04 3.20000e+01 3.50000e+01 2.60320e+04 2.01540e+04\n",
      " 8.60000e+01 8.40000e+01 1.17000e+02 9.80000e+01 1.01000e+02 1.14000e+02\n",
      " 8.23000e+03 3.20000e+01 1.04000e+02 1.16000e+02 1.16000e+02 1.12000e+02\n",
      " 1.15000e+02 5.80000e+01 4.70000e+01 4.70000e+01 1.16000e+02 4.60000e+01\n",
      " 9.90000e+01 1.11000e+02 4.70000e+01 8.40000e+01 7.40000e+01 8.70000e+01\n",
      " 1.22000e+02 1.11000e+02 7.90000e+01 4.90000e+01 8.50000e+01 7.50000e+01\n",
      " 1.00000e+02 0.00000e+00 0.00000e+00 0.00000e+00 0.00000e+00 0.00000e+00\n",
      " 0.00000e+00 0.00000e+00]\n"
     ]
    }
   ],
   "source": [
    "print(y_train[1])\n",
    "print(x_train[1])"
   ]
  },
  {
   "cell_type": "code",
   "execution_count": 60,
   "metadata": {
    "scrolled": true
   },
   "outputs": [],
   "source": [
    "#---------\n",
    "#MLP-Model\n",
    "#---------\n",
    "\n",
    "model = Sequential()\n",
    "\n",
    "model.add(Dense(500, input_shape=(140,)))\n",
    "model.add(Dense(500))\n",
    "model.add(Activation(\"relu\"))\n",
    "\n",
    "model.add(Dense(1000))\n",
    "model.add(Activation(\"tanh\"))\n",
    "\n",
    "model.add(Dense(400))\n",
    "model.add(Activation(\"relu\"))\n",
    "\n",
    "model.add(Dense(5))\n",
    "model.add(Activation(\"softmax\"))\n",
    "\n",
    "model.compile(loss='categorical_crossentropy',\n",
    "              optimizer=SGD(),\n",
    "              metrics=['accuracy'])    "
   ]
  },
  {
   "cell_type": "markdown",
   "metadata": {},
   "source": [
    "Relu関数のところでエラーになる・・・  \n",
    "・・・なぜか第２層の活性化関数をハイパボリックタンジェントにしたらうまくいった（なぜ？）  \n",
    "そしてよくよく考えたらtestデータがなかったので取ってくる（そしてまた同じ処理をする）"
   ]
  },
  {
   "cell_type": "code",
   "execution_count": 27,
   "metadata": {},
   "outputs": [],
   "source": [
    "df_1_t = pd.read_csv(\"test_data/キズナアイ.csv\")\n",
    "df_2_t = pd.read_csv(\"test_data/輝夜月.csv\")\n",
    "df_3_t = pd.read_csv(\"test_data/バーチャルのじゃロリ狐娘Youtuberおじさん.csv\")\n",
    "df_4_t = pd.read_csv(\"test_data/ミライアカリ.csv\")\n",
    "df_5_t = pd.read_csv(\"test_data/月ノ美兎.csv\")"
   ]
  },
  {
   "cell_type": "code",
   "execution_count": 28,
   "metadata": {},
   "outputs": [],
   "source": [
    "df_t = pd.concat([df_1_t,df_2_t,df_3_t,df_4_t,df_5_t])\n",
    "df_t = df_t.reset_index()"
   ]
  },
  {
   "cell_type": "code",
   "execution_count": 29,
   "metadata": {},
   "outputs": [],
   "source": [
    "del df_t[\"Unnamed: 0\"] #よくわからない列ができてしまったので消す"
   ]
  },
  {
   "cell_type": "code",
   "execution_count": 30,
   "metadata": {},
   "outputs": [
    {
     "data": {
      "text/html": [
       "<div>\n",
       "<style scoped>\n",
       "    .dataframe tbody tr th:only-of-type {\n",
       "        vertical-align: middle;\n",
       "    }\n",
       "\n",
       "    .dataframe tbody tr th {\n",
       "        vertical-align: top;\n",
       "    }\n",
       "\n",
       "    .dataframe thead th {\n",
       "        text-align: right;\n",
       "    }\n",
       "</style>\n",
       "<table border=\"1\" class=\"dataframe\">\n",
       "  <thead>\n",
       "    <tr style=\"text-align: right;\">\n",
       "      <th></th>\n",
       "      <th>index</th>\n",
       "      <th>hashtag</th>\n",
       "      <th>text</th>\n",
       "    </tr>\n",
       "  </thead>\n",
       "  <tbody>\n",
       "    <tr>\n",
       "      <th>0</th>\n",
       "      <td>0</td>\n",
       "      <td>キズナアイ</td>\n",
       "      <td>#キズナアイ 騒動の千田有紀。雇用している武蔵大学の学長ってどんな人かと思ってプロフィール見...</td>\n",
       "    </tr>\n",
       "    <tr>\n",
       "      <th>1</th>\n",
       "      <td>1</td>\n",
       "      <td>キズナアイ</td>\n",
       "      <td>死にゲーやるキズナアイはなぜこうも面白いのか\\n#キズナアイ https://t.co/72...</td>\n",
       "    </tr>\n",
       "    <tr>\n",
       "      <th>2</th>\n",
       "      <td>2</td>\n",
       "      <td>キズナアイ</td>\n",
       "      <td>only the best #KizunaAI #キズナアイ https://t.co/cE...</td>\n",
       "    </tr>\n",
       "    <tr>\n",
       "      <th>3</th>\n",
       "      <td>3</td>\n",
       "      <td>キズナアイ</td>\n",
       "      <td>「I am Bread #5」のサムネイルが何故か城島リーダーのあの画像に見えたんだけど、自...</td>\n",
       "    </tr>\n",
       "    <tr>\n",
       "      <th>4</th>\n",
       "      <td>4</td>\n",
       "      <td>キズナアイ</td>\n",
       "      <td>さっきよくわかるキズナアイの動画見てきた。うん、こんなにもっと早く出会いたかったって思った人...</td>\n",
       "    </tr>\n",
       "  </tbody>\n",
       "</table>\n",
       "</div>"
      ],
      "text/plain": [
       "   index hashtag                                               text\n",
       "0      0   キズナアイ  #キズナアイ 騒動の千田有紀。雇用している武蔵大学の学長ってどんな人かと思ってプロフィール見...\n",
       "1      1   キズナアイ  死にゲーやるキズナアイはなぜこうも面白いのか\\n#キズナアイ https://t.co/72...\n",
       "2      2   キズナアイ  only the best #KizunaAI #キズナアイ https://t.co/cE...\n",
       "3      3   キズナアイ  「I am Bread #5」のサムネイルが何故か城島リーダーのあの画像に見えたんだけど、自...\n",
       "4      4   キズナアイ  さっきよくわかるキズナアイの動画見てきた。うん、こんなにもっと早く出会いたかったって思った人..."
      ]
     },
     "execution_count": 30,
     "metadata": {},
     "output_type": "execute_result"
    }
   ],
   "source": [
    "df_t.head()"
   ]
  },
  {
   "cell_type": "code",
   "execution_count": 31,
   "metadata": {},
   "outputs": [
    {
     "data": {
      "text/html": [
       "<div>\n",
       "<style scoped>\n",
       "    .dataframe tbody tr th:only-of-type {\n",
       "        vertical-align: middle;\n",
       "    }\n",
       "\n",
       "    .dataframe tbody tr th {\n",
       "        vertical-align: top;\n",
       "    }\n",
       "\n",
       "    .dataframe thead th {\n",
       "        text-align: right;\n",
       "    }\n",
       "</style>\n",
       "<table border=\"1\" class=\"dataframe\">\n",
       "  <thead>\n",
       "    <tr style=\"text-align: right;\">\n",
       "      <th></th>\n",
       "      <th>index</th>\n",
       "      <th>hashtag</th>\n",
       "      <th>text</th>\n",
       "    </tr>\n",
       "  </thead>\n",
       "  <tbody>\n",
       "    <tr>\n",
       "      <th>388</th>\n",
       "      <td>95</td>\n",
       "      <td>月ノ美兎</td>\n",
       "      <td>カスタムキャストで月ノ美兎委員長に似てる子作りました。制服とピッタリなニーソとヘラピンがない...</td>\n",
       "    </tr>\n",
       "    <tr>\n",
       "      <th>389</th>\n",
       "      <td>96</td>\n",
       "      <td>月ノ美兎</td>\n",
       "      <td>思い出さなくて良いから…(良心) https://t.co/dBxdPZxdO6</td>\n",
       "    </tr>\n",
       "    <tr>\n",
       "      <th>390</th>\n",
       "      <td>97</td>\n",
       "      <td>月ノ美兎</td>\n",
       "      <td>2分ちょっとで分かる月ノ美兎*1話#バーチャルYouTuber#Vtuberhttps://...</td>\n",
       "    </tr>\n",
       "    <tr>\n",
       "      <th>391</th>\n",
       "      <td>98</td>\n",
       "      <td>月ノ美兎</td>\n",
       "      <td>#にじさんじ https://t.co/Jv2mynE56Y</td>\n",
       "    </tr>\n",
       "    <tr>\n",
       "      <th>392</th>\n",
       "      <td>99</td>\n",
       "      <td>月ノ美兎</td>\n",
       "      <td>『楓の葉は きみと共に』https://t.co/J4jh1hoxcppixivにて投稿。月...</td>\n",
       "    </tr>\n",
       "  </tbody>\n",
       "</table>\n",
       "</div>"
      ],
      "text/plain": [
       "     index hashtag                                               text\n",
       "388     95    月ノ美兎  カスタムキャストで月ノ美兎委員長に似てる子作りました。制服とピッタリなニーソとヘラピンがない...\n",
       "389     96    月ノ美兎           思い出さなくて良いから…(良心) https://t.co/dBxdPZxdO6\n",
       "390     97    月ノ美兎  2分ちょっとで分かる月ノ美兎*1話#バーチャルYouTuber#Vtuberhttps://...\n",
       "391     98    月ノ美兎                     #にじさんじ https://t.co/Jv2mynE56Y\n",
       "392     99    月ノ美兎  『楓の葉は きみと共に』https://t.co/J4jh1hoxcppixivにて投稿。月..."
      ]
     },
     "execution_count": 31,
     "metadata": {},
     "output_type": "execute_result"
    }
   ],
   "source": [
    "df_t = replace_words(df_t, \"\\n\", \"\") #改行記号削除\n",
    "#ハッシュタグ削除\n",
    "for vtuber in [\"キズナアイ\",\"輝夜月\",\"ミライアカリ\",\"バーチャルのじゃロリ狐娘Youtuberおじさん\",\"月ノ美兎\"]:\n",
    "    df_t = replace_words(df_t, (\"#\" + vtuber), \"\")\n",
    "df_t.tail()"
   ]
  },
  {
   "cell_type": "code",
   "execution_count": 32,
   "metadata": {},
   "outputs": [],
   "source": [
    "vec_df_t=string2vec(df_t)"
   ]
  },
  {
   "cell_type": "code",
   "execution_count": 33,
   "metadata": {},
   "outputs": [],
   "source": [
    "y_test = pd.get_dummies(vec_df_t['hashtag']).values #検証用目的変数の作成"
   ]
  },
  {
   "cell_type": "code",
   "execution_count": 34,
   "metadata": {},
   "outputs": [],
   "source": [
    "x_test = vec_df_t.iloc[:,4:].values #学習用説明変数の作成"
   ]
  },
  {
   "cell_type": "code",
   "execution_count": 35,
   "metadata": {},
   "outputs": [],
   "source": [
    "#Kerasで扱えるようにfloatデータにします\n",
    "x_test = x_test.astype(\"f\")\n",
    "y_test = y_test.astype(\"f\")"
   ]
  },
  {
   "cell_type": "markdown",
   "metadata": {},
   "source": [
    "前処理は一つの関数にまとめておきたいですね・・・  \n",
    "いよいよ学習に入ります"
   ]
  },
  {
   "cell_type": "code",
   "execution_count": null,
   "metadata": {},
   "outputs": [],
   "source": [
    "#実際に学習させる（注意：hist変数は学習終了後生成されるので中断したら参照できない）\n",
    "hist = model.fit(x_train,\n",
    "                 y_train,\n",
    "                 epochs=6000,\n",
    "                 validation_data=(x_test, y_test))= y_test.astype(\"f\")"
   ]
  },
  {
   "cell_type": "markdown",
   "metadata": {},
   "source": [
    "# 学習結果の確認\n",
    "グラフとかを出力して、学習の結果を確認します。"
   ]
  },
  {
   "cell_type": "code",
   "execution_count": 64,
   "metadata": {},
   "outputs": [
    {
     "name": "stdout",
     "output_type": "stream",
     "text": [
      "\r",
      " 32/393 [=>............................] - ETA: 0s"
     ]
    },
    {
     "data": {
      "text/plain": [
       "[2.710115054788177, 0.36132315567128226]"
      ]
     },
     "execution_count": 64,
     "metadata": {},
     "output_type": "execute_result"
    }
   ],
   "source": [
    "# 学習精度をテストデータで確認できる（学習時にvalidation_dataとして入力していたら必要ない）\n",
    "loss_and_metrics = model.evaluate(x_test, y_test)\n",
    "loss_and_metrics #（損失値、精度）を返す"
   ]
  },
  {
   "cell_type": "code",
   "execution_count": 65,
   "metadata": {},
   "outputs": [
    {
     "data": {
      "image/png": "[encoded data removed]",
      "text/plain": [
       "<matplotlib.figure.Figure at 0x182e7bb630>"
      ]
     },
     "metadata": {},
     "output_type": "display_data"
    },
    {
     "data": {
      "image/png": "[encoded data removed]",
      "text/plain": [
       "<matplotlib.figure.Figure at 0x182e7bb668>"
      ]
     },
     "metadata": {},
     "output_type": "display_data"
    }
   ],
   "source": [
    "# プロットして損失値と精度の推移を視覚化するのは非常に重要な作業なので特に理由がなければ毎度表示する。\n",
    "# 過学習や学習不足が確認できる。\n",
    "\n",
    "\n",
    "# 損失値(Loss)の遷移のプロット\n",
    "def plot_history_loss(hist):\n",
    "    \n",
    "    # hist.historyに辞書型で損失値や精度が入っているので取得して表示\n",
    "    plt.plot(hist.history['loss'],label=\"loss for training\")\n",
    "    plt.plot(hist.history['val_loss'],label=\"loss for validation\")\n",
    "    \n",
    "    #matplotlibの細かい設定\n",
    "    plt.title('model loss')\n",
    "    plt.xlabel('epoch')\n",
    "    plt.ylabel('loss')\n",
    "    plt.legend(loc='best')\n",
    "    \n",
    "    plt.show()\n",
    "\n",
    "    \n",
    "# 精度(Accuracy)の遷移のプロット\n",
    "def plot_history_acc(hist):\n",
    "    plt.plot(hist.history['acc'],label=\"loss for training\")\n",
    "    plt.plot(hist.history['val_acc'],label=\"loss for validation\")\n",
    "    plt.title('model accuracy')\n",
    "    plt.xlabel('epoch')\n",
    "    plt.ylabel('accuracy')\n",
    "    plt.legend(loc='best')\n",
    "    plt.ylim([0, 1])\n",
    "    plt.show()\n",
    "\n",
    "plot_history_loss(hist)\n",
    "plot_history_acc(hist)"
   ]
  },
  {
   "cell_type": "markdown",
   "metadata": {},
   "source": [
    "**全然ダメダメですね。**ダメな原因としては  \n",
    "・流石にデータが少ない   \n",
    "・前処理が雑すぎる。URL消すとか、他のハッシュタグを消すとか、ノイズっぽいツイートを消すなどしたい  \n",
    "・データが少ないのにCNNにする必要性があまりない。普通にMeCabで形態素解析してランダムフォレストとか機械学習アルゴリズムにかけたほうが精度高そう  \n",
    "・ツイート時期に偏りがあるツイート集合で学習・検証データを作ってしまったので混ぜたほうがよかったかもしれない  \n",
    "・CNNの設計を考え直すのもいいかもしれない"
   ]
  },
  {
   "cell_type": "code",
   "execution_count": null,
   "metadata": {},
   "outputs": [],
   "source": []
  }
 ],
 "metadata": {
  "kernelspec": {
   "display_name": "Python 3",
   "language": "python",
   "name": "python3"
  },
  "language_info": {
   "codemirror_mode": {
    "name": "ipython",
    "version": 3
   },
   "file_extension": ".py",
   "mimetype": "text/x-python",
   "name": "python",
   "nbconvert_exporter": "python",
   "pygments_lexer": "ipython3",
   "version": "3.6.4"
  }
 },
 "nbformat": 4,
 "nbformat_minor": 2
}
